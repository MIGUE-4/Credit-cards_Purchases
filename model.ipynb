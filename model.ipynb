{
 "cells": [
  {
   "cell_type": "markdown",
   "metadata": {},
   "source": [
    "<center><h3>Model</h3></center>"
   ]
  },
  {
   "cell_type": "code",
   "execution_count": 1,
   "metadata": {},
   "outputs": [],
   "source": [
    "import pandas as pd\n",
    "import numpy as np\n",
    "from sklearn.preprocessing import MinMaxScaler\n",
    "from sklearn.preprocessing import LabelEncoder\n",
    "from sklearn.model_selection import train_test_split\n",
    "from sklearn.svm import SVC\n",
    "from sklearn.metrics import accuracy_score"
   ]
  },
  {
   "cell_type": "code",
   "execution_count": 2,
   "metadata": {},
   "outputs": [],
   "source": [
    "data_purchases = pd.read_csv(r\"credit_card_purchases.csv\")"
   ]
  },
  {
   "cell_type": "code",
   "execution_count": 3,
   "metadata": {},
   "outputs": [],
   "source": [
    "data_purchases['trans_date_trans_time'] = pd.to_datetime(data_purchases['trans_date_trans_time'], errors='coerce')\n",
    "data_purchases['hour'] = data_purchases['trans_date_trans_time'].dt.hour"
   ]
  },
  {
   "cell_type": "code",
   "execution_count": 4,
   "metadata": {},
   "outputs": [],
   "source": [
    "data_purchases['minute'] = data_purchases['trans_date_trans_time'].dt.minute"
   ]
  },
  {
   "cell_type": "code",
   "execution_count": 5,
   "metadata": {},
   "outputs": [],
   "source": [
    "data_purchases.drop(columns=['Unnamed: 0', 'first','last','street','cc_num','cc_num','trans_num','city_pop','zip','unix_time','merch_zipcode','merch_long','merch_lat','trans_date_trans_time','merchant','gender','city','state','lat','long','job','dob'], inplace=True)"
   ]
  },
  {
   "cell_type": "code",
   "execution_count": 6,
   "metadata": {},
   "outputs": [],
   "source": [
    "category_preprocc = LabelEncoder()\n",
    "category_transformed = category_preprocc.fit_transform(data_purchases['category'])\n",
    "\n",
    "amt_min_max = MinMaxScaler()\n",
    "amt_transformed = amt_min_max.fit_transform(np.array(data_purchases['amt']).reshape(-1,1))\n",
    "\n",
    "data_purchases['category'] = category_transformed\n",
    "data_purchases['amt'] = amt_transformed"
   ]
  },
  {
   "cell_type": "code",
   "execution_count": 7,
   "metadata": {},
   "outputs": [
    {
     "name": "stdout",
     "output_type": "stream",
     "text": [
      "Model accuracy: 0.9942\n"
     ]
    }
   ],
   "source": [
    "# Step 1: Separar las clases mayoritaria y minoritaria\n",
    "class_0 = data_purchases[data_purchases['is_fraud'] == 0]\n",
    "class_1 = data_purchases[data_purchases['is_fraud'] == 1]\n",
    "\n",
    "# Step 2: Oversampling the minority class\n",
    "class_1_over = class_1.sample(n=len(class_1), replace=True, random_state=42)\n",
    "\n",
    "# Step 3: Combinar las clases mayoritaria y sobremuestreada\n",
    "balanced_data = pd.concat([class_0, class_1_over])\n",
    "\n",
    "# Randomly shuffle the balanced dataset\n",
    "balanced_data = balanced_data.sample(frac=0.01, random_state=42).reset_index(drop=True)\n",
    "\n",
    "# Step 4: Separate the predictor variables (X) and the target variable (y) after balancing.\n",
    "X = balanced_data.drop(columns=['is_fraud'])\n",
    "y = balanced_data['is_fraud']\n",
    "\n",
    "# Step 5: Split the dataset into training and testing\n",
    "X_train, X_test, y_train, y_test = train_test_split(X, y, test_size=0.2, random_state=42)\n",
    "\n",
    "# Step 7: Create and train the SVC model\n",
    "svc_model = SVC(kernel='linear')\n",
    "svc_model.fit(X_train, y_train)\n",
    "\n",
    "# Step 8: Making predictions on the test set\n",
    "y_pred = svc_model.predict(X_test)\n",
    "\n",
    "accuracy = accuracy_score(svc_model.predict(data_purchases.drop(columns='is_fraud')), data_purchases['is_fraud'])\n",
    "\n",
    "print(f\"Model accuracy: {accuracy:.4f}\")\n"
   ]
  }
 ],
 "metadata": {
  "kernelspec": {
   "display_name": "Python 3",
   "language": "python",
   "name": "python3"
  },
  "language_info": {
   "codemirror_mode": {
    "name": "ipython",
    "version": 3
   },
   "file_extension": ".py",
   "mimetype": "text/x-python",
   "name": "python",
   "nbconvert_exporter": "python",
   "pygments_lexer": "ipython3",
   "version": "3.11.9"
  }
 },
 "nbformat": 4,
 "nbformat_minor": 2
}
